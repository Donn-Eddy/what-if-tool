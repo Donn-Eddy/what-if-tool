{
  "cells": [
    {
      "cell_type": "code",
      "execution_count": null,
      "metadata": {
        "id": "Pwab0i0RAHBN"
      },
      "outputs": [],
      "source": [
        "stop_sequences_str = \"[]\"  # @param {isTemplate: true}"
      ]
    },
    {
      "cell_type": "code",
      "source": [
        "import json\n",
        "stop_sequences = json.loads(stop_sequences_str)\n",
        "print(stop_sequences)"
      ],
      "metadata": {
        "id": "g0UI1OYy8-L3"
      },
      "execution_count": null,
      "outputs": []
    }
  ],
  "metadata": {
    "colab": {
      "provenance": []
    },
    "kernelspec": {
      "display_name": "Python 3",
      "name": "python3"
    }
  },
  "nbformat": 4,
  "nbformat_minor": 0
}